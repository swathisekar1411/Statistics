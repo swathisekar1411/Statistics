{
  "nbformat": 4,
  "nbformat_minor": 0,
  "metadata": {
    "colab": {
      "name": "T-Test.ipynb",
      "provenance": []
    },
    "kernelspec": {
      "name": "python3",
      "display_name": "Python 3"
    },
    "language_info": {
      "name": "python"
    }
  },
  "cells": [
    {
      "cell_type": "markdown",
      "metadata": {
        "id": "rS7Sv7deCg_L"
      },
      "source": [
        "# **T Test** "
      ]
    },
    {
      "cell_type": "markdown",
      "metadata": {
        "id": "H0j3bnIYC2h7"
      },
      "source": [
        "A t-test is a type of inferential statistic which is used to determine if there is a significant difference between the means of two groups which may be related in certain features\n",
        "\n",
        "T-test has 3 types :\n",
        "1. one sampled t-test \n",
        "2. two-sampled t-test\n",
        "3. paired t-test."
      ]
    },
    {
      "cell_type": "code",
      "metadata": {
        "id": "GUHhvPU4EnT3"
      },
      "source": [
        "ages=[10,20,35,50,28,40,55,18,16,55,30,25,43,18,30,28,14,24,16,17,32,35,25,46,39,28,68,27,65,18,43,23,21,20,19,70]"
      ],
      "execution_count": 1,
      "outputs": []
    },
    {
      "cell_type": "code",
      "metadata": {
        "colab": {
          "base_uri": "https://localhost:8080/"
        },
        "id": "k8HCP5gqEnXj",
        "outputId": "5ab1721b-0e20-48fd-9f54-029148b9c810"
      },
      "source": [
        "len(ages)"
      ],
      "execution_count": 2,
      "outputs": [
        {
          "output_type": "execute_result",
          "data": {
            "text/plain": [
              "36"
            ]
          },
          "metadata": {},
          "execution_count": 2
        }
      ]
    },
    {
      "cell_type": "markdown",
      "metadata": {
        "id": "mJnuQVHYG09O"
      },
      "source": [
        "# one sample t-test"
      ]
    },
    {
      "cell_type": "code",
      "metadata": {
        "colab": {
          "base_uri": "https://localhost:8080/"
        },
        "id": "Qbj-8G88FArP",
        "outputId": "2e64115f-a487-4fa2-ad89-686f13175019"
      },
      "source": [
        "import numpy as np\n",
        "ages_mean=np.mean(ages)\n",
        "print(ages_mean)"
      ],
      "execution_count": 3,
      "outputs": [
        {
          "output_type": "stream",
          "name": "stdout",
          "text": [
            "31.97222222222222\n"
          ]
        }
      ]
    },
    {
      "cell_type": "markdown",
      "metadata": {
        "id": "-hHQxdkLFNbt"
      },
      "source": [
        "take sample set"
      ]
    },
    {
      "cell_type": "code",
      "metadata": {
        "id": "_Ej2Y369FMiQ"
      },
      "source": [
        "sample_size=15\n",
        "age_sample=np.random.choice(ages,sample_size)"
      ],
      "execution_count": 8,
      "outputs": []
    },
    {
      "cell_type": "code",
      "metadata": {
        "colab": {
          "base_uri": "https://localhost:8080/"
        },
        "id": "ojFkfRlPFXKq",
        "outputId": "36aa2f6d-8680-43dd-bd96-9e107924637e"
      },
      "source": [
        "age_sample"
      ],
      "execution_count": 9,
      "outputs": [
        {
          "output_type": "execute_result",
          "data": {
            "text/plain": [
              "array([35, 32, 28, 35, 20, 20, 21, 18, 32, 35, 28, 28, 35, 50, 50])"
            ]
          },
          "metadata": {},
          "execution_count": 9
        }
      ]
    },
    {
      "cell_type": "code",
      "metadata": {
        "id": "cqJVigUOFaE6"
      },
      "source": [
        "from scipy.stats import ttest_1samp"
      ],
      "execution_count": 10,
      "outputs": []
    },
    {
      "cell_type": "code",
      "metadata": {
        "id": "4ioIF-H8FtVN"
      },
      "source": [
        "ttest,p_value=ttest_1samp(age_sample,31)\n"
      ],
      "execution_count": 11,
      "outputs": []
    },
    {
      "cell_type": "code",
      "metadata": {
        "colab": {
          "base_uri": "https://localhost:8080/"
        },
        "id": "AThLU6kWF3a4",
        "outputId": "d05eea57-503d-460b-9527-71c61a7ddf82"
      },
      "source": [
        "print(p_value)"
      ],
      "execution_count": 12,
      "outputs": [
        {
          "output_type": "stream",
          "name": "stdout",
          "text": [
            "0.9584287274805048\n"
          ]
        }
      ]
    },
    {
      "cell_type": "code",
      "metadata": {
        "colab": {
          "base_uri": "https://localhost:8080/"
        },
        "id": "VsX8ACaqGApZ",
        "outputId": "dc78eb1b-40c4-46c5-d03e-dd4d9b928e25"
      },
      "source": [
        "if p_value < 0.05:  \n",
        "    print(\"rejecting null hypothesis\")\n",
        "else:\n",
        "    print(\"accepting null hypothesis\")\n"
      ],
      "execution_count": 16,
      "outputs": [
        {
          "output_type": "stream",
          "name": "stdout",
          "text": [
            "accepting null hypothesis\n"
          ]
        }
      ]
    },
    {
      "cell_type": "markdown",
      "metadata": {
        "id": "hJlltkXiG52b"
      },
      "source": [
        "#two sample t-test"
      ]
    },
    {
      "cell_type": "code",
      "metadata": {
        "id": "Lyz1U6LyHcQ7"
      },
      "source": [
        "import numpy as np\n",
        "import pandas as pd\n",
        "import scipy.stats as stats\n",
        "import math\n",
        "np.random.seed(6)\n",
        "school_ages=stats.poisson.rvs(loc=18,mu=35,size=1500)\n",
        "classA_ages=stats.poisson.rvs(loc=18,mu=30,size=60)\n"
      ],
      "execution_count": 18,
      "outputs": []
    },
    {
      "cell_type": "code",
      "metadata": {
        "colab": {
          "base_uri": "https://localhost:8080/"
        },
        "id": "G6-_nHguHewD",
        "outputId": "f693cc93-0cc6-475e-c16b-d930ed07442c"
      },
      "source": [
        "np.random.seed(12)\n",
        "ClassB_ages=stats.poisson.rvs(loc=18,mu=33,size=60)\n",
        "ClassB_ages.mean()"
      ],
      "execution_count": 19,
      "outputs": [
        {
          "output_type": "execute_result",
          "data": {
            "text/plain": [
              "50.63333333333333"
            ]
          },
          "metadata": {},
          "execution_count": 19
        }
      ]
    },
    {
      "cell_type": "code",
      "metadata": {
        "id": "MtHcntZAHwTo"
      },
      "source": [
        "weight1=[25,30,28,35,28,34,26,29,30,26,28,32,31,30,45]\n",
        "weight2=weight1+stats.norm.rvs(scale=5,loc=-1.25,size=15)"
      ],
      "execution_count": 22,
      "outputs": []
    },
    {
      "cell_type": "code",
      "metadata": {
        "id": "Phi8jiw7L4H1"
      },
      "source": [
        "_,p_value=stats.ttest_ind(a=classA_ages,b=ClassB_ages,equal_var=False)"
      ],
      "execution_count": 26,
      "outputs": []
    },
    {
      "cell_type": "code",
      "metadata": {
        "colab": {
          "base_uri": "https://localhost:8080/"
        },
        "id": "1iuiRBBnHey9",
        "outputId": "d1d95fae-b39e-4c15-e447-f02137fb2768"
      },
      "source": [
        "if p_value < 0.05:   \n",
        "    print(\" rejecting null hypothesis\")\n",
        "else:\n",
        "    print(\"accepting null hypothesis\")"
      ],
      "execution_count": 23,
      "outputs": [
        {
          "output_type": "stream",
          "name": "stdout",
          "text": [
            " rejecting null hypothesis\n"
          ]
        }
      ]
    },
    {
      "cell_type": "markdown",
      "metadata": {
        "id": "soOjP7e_LQ4B"
      },
      "source": [
        "#**Paired t-test**"
      ]
    },
    {
      "cell_type": "markdown",
      "metadata": {
        "id": "IvTgANhXLPAI"
      },
      "source": [
        "different samples from the same group"
      ]
    },
    {
      "cell_type": "code",
      "metadata": {
        "id": "6ePlEb2uLaEU"
      },
      "source": [
        "weight1=[25,30,23,27,41,32,28,35,28,34,26,29,30,26,28,32,31,30,43,45]\n",
        "weight2=weight1+stats.norm.rvs(scale=5,loc=-1.25,size=20)"
      ],
      "execution_count": 24,
      "outputs": []
    },
    {
      "cell_type": "code",
      "metadata": {
        "colab": {
          "base_uri": "https://localhost:8080/"
        },
        "id": "mm0h5n9yLre-",
        "outputId": "905d6f4d-343b-4ba2-bbb5-1dbee01f8d1b"
      },
      "source": [
        "print(weight1)\n",
        "print(weight2)"
      ],
      "execution_count": 28,
      "outputs": [
        {
          "output_type": "stream",
          "name": "stdout",
          "text": [
            "[25, 30, 23, 27, 41, 32, 28, 35, 28, 34, 26, 29, 30, 26, 28, 32, 31, 30, 43, 45]\n",
            "[30.57926457 34.91022437 24.00444617 22.54295091 32.86201983 35.57873174\n",
            " 20.3299827  27.3771395  34.36420881 40.05941216 24.93827982 26.519014\n",
            " 25.42851213 26.50667769 24.32984284 23.1845637  25.93234756 29.99601605\n",
            " 33.80095696 38.85237039]\n"
          ]
        }
      ]
    },
    {
      "cell_type": "code",
      "metadata": {
        "id": "We5ed2cFLrh4"
      },
      "source": [
        "_,p_value=stats.ttest_rel(a=weight1,b=weight2)"
      ],
      "execution_count": 27,
      "outputs": []
    },
    {
      "cell_type": "code",
      "metadata": {
        "colab": {
          "base_uri": "https://localhost:8080/"
        },
        "id": "H3sPnL2bMUWo",
        "outputId": "ee3fb3ef-def5-4046-8006-fb899359018e"
      },
      "source": [
        "if p_value < 0.05:\n",
        "    print(\" rejecting null hypothesis\")\n",
        "else:\n",
        "    print(\"accepting null hypothesis\")\n"
      ],
      "execution_count": 29,
      "outputs": [
        {
          "output_type": "stream",
          "name": "stdout",
          "text": [
            "accepting null hypothesis\n"
          ]
        }
      ]
    }
  ]
}